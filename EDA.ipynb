{
 "cells": [
  {
   "cell_type": "code",
   "execution_count": 1,
   "metadata": {
    "colab": {
     "base_uri": "https://localhost:8080/"
    },
    "id": "UjBVQidwuARY",
    "outputId": "a064e435-1030-4b44-9e53-fc3f9e9a6aeb"
   },
   "outputs": [],
   "source": [
    "#from google.colab import drive\n",
    "#drive.mount('/content/drive/')"
   ]
  },
  {
   "cell_type": "code",
   "execution_count": 1,
   "metadata": {
    "id": "3MqK3543onES"
   },
   "outputs": [],
   "source": [
    "import numpy as np\n",
    "import pandas as pd\n",
    "import matplotlib.pyplot as plt\n",
    "import seaborn as sns\n",
    "import dask.array as da\n",
    "\n",
    "import json\n",
    "import pickle\n",
    "import warnings\n",
    "import random\n",
    "import zipfile \n",
    "import os\n",
    "import collections\n",
    "import datetime\n",
    "import re\n",
    "import scipy\n",
    "import sys\n",
    "\n",
    "warnings.filterwarnings('ignore')\n",
    "sns.set_theme(style=\"whitegrid\")"
   ]
  },
  {
   "cell_type": "code",
   "execution_count": 2,
   "metadata": {
    "id": "TaNNSBxI5oZG"
   },
   "outputs": [],
   "source": [
    "path = \"spotify_million_playlist_dataset.zip\" #/content/drive/My Drive/АИПТ/"
   ]
  },
  {
   "cell_type": "markdown",
   "metadata": {
    "id": "WFzYI88dwWBj"
   },
   "source": [
    "# Входные данные"
   ]
  },
  {
   "cell_type": "markdown",
   "metadata": {
    "id": "XgE1JILpwiMa"
   },
   "source": [
    "Посмотрю, какие есть исходные признаки. Имеется 1000 кусочков исходного датасета. Буду просматривать случайный кусочек."
   ]
  },
  {
   "cell_type": "code",
   "execution_count": 3,
   "metadata": {
    "id": "yIFbL4GKQILZ"
   },
   "outputs": [],
   "source": [
    "def read_slice(path, slice_):\n",
    "    with zipfile.ZipFile(path, \"r\") as z:\n",
    "      #for file_info in z.infolist():\n",
    "        try:\n",
    "            with z.open(slice_) as f:  \n",
    "                js = f.read() \n",
    "                return json.loads(js)\n",
    "        except:\n",
    "            print('Slice name error')"
   ]
  },
  {
   "cell_type": "code",
   "execution_count": 4,
   "metadata": {
    "id": "7nai_p0PwH3e"
   },
   "outputs": [],
   "source": [
    "number = random.randint(1, 1000)\n",
    "mpd_slice = read_slice(path, 'data/mpd.slice.' + str(number * 1000 - 1000) + \"-\" + str(number * 1000 - 1) + '.json')"
   ]
  },
  {
   "cell_type": "markdown",
   "metadata": {
    "id": "wRm9_1RsxGjJ"
   },
   "source": [
    "В каждом кусочке содержится информация о нем и о 1000 плейлистов:"
   ]
  },
  {
   "cell_type": "code",
   "execution_count": 6,
   "metadata": {
    "colab": {
     "base_uri": "https://localhost:8080/"
    },
    "id": "NP5EYFDLwKFn",
    "outputId": "dcb492f4-52bc-43f4-87ca-fdab1e686db4"
   },
   "outputs": [
    {
     "data": {
      "text/plain": [
       "dict_keys(['info', 'playlists'])"
      ]
     },
     "execution_count": 6,
     "metadata": {},
     "output_type": "execute_result"
    }
   ],
   "source": [
    "mpd_slice.keys()"
   ]
  },
  {
   "cell_type": "markdown",
   "metadata": {
    "id": "Swpsj0ABxZlV"
   },
   "source": [
    "Информация о кусочке не может быть использована в качестве признака при решении задачи, так как она носит ознакомительный характер. Так мы можем понять, что случайным образом открыли один из средних кусочков данных:"
   ]
  },
  {
   "cell_type": "code",
   "execution_count": 7,
   "metadata": {
    "colab": {
     "base_uri": "https://localhost:8080/"
    },
    "id": "H5mj5F46xU8J",
    "outputId": "99fe140d-979f-4e9c-811e-cd7138dd7fab"
   },
   "outputs": [
    {
     "data": {
      "text/plain": [
       "{'generated_on': '2017-12-03 08:41:42.057563',\n",
       " 'slice': '41000-41999',\n",
       " 'version': 'v1'}"
      ]
     },
     "execution_count": 7,
     "metadata": {},
     "output_type": "execute_result"
    }
   ],
   "source": [
    "mpd_slice['info']"
   ]
  },
  {
   "cell_type": "code",
   "execution_count": 8,
   "metadata": {
    "colab": {
     "base_uri": "https://localhost:8080/"
    },
    "id": "Or8JDs66x1Ul",
    "outputId": "f92c51cc-daec-44b2-ed5e-c48d4017940d"
   },
   "outputs": [
    {
     "data": {
      "text/plain": [
       "dict_keys(['name', 'collaborative', 'pid', 'modified_at', 'num_tracks', 'num_albums', 'num_followers', 'tracks', 'num_edits', 'duration_ms', 'num_artists'])"
      ]
     },
     "execution_count": 8,
     "metadata": {},
     "output_type": "execute_result"
    }
   ],
   "source": [
    "mpd_slice['playlists'][0].keys()"
   ]
  },
  {
   "cell_type": "markdown",
   "metadata": {
    "id": "yAkbkeRW0P0I"
   },
   "source": [
    "Среди данных признаков интересными для рекомендательной системы могут оказаться num_albums, num_artists, так как данные показатели будут достаточно информативными в случае, если пользователь составляет моно-плейлист, модификация duration_ms (например, средняя продолжительность треков пейлиста)."
   ]
  },
  {
   "cell_type": "code",
   "execution_count": 9,
   "metadata": {
    "colab": {
     "base_uri": "https://localhost:8080/"
    },
    "id": "-_Q52-ID1Tfe",
    "outputId": "307cde65-8fab-486e-900d-b1c214d451a7"
   },
   "outputs": [
    {
     "data": {
      "text/plain": [
       "dict_keys(['pos', 'artist_name', 'track_uri', 'artist_uri', 'track_name', 'album_uri', 'duration_ms', 'album_name'])"
      ]
     },
     "execution_count": 9,
     "metadata": {},
     "output_type": "execute_result"
    }
   ],
   "source": [
    "mpd_slice['playlists'][0]['tracks'][0].keys()"
   ]
  },
  {
   "cell_type": "markdown",
   "metadata": {
    "id": "Sfu4_4L3Wq4k"
   },
   "source": [
    "Среди данных признаков наибольший интерес представляют позиция трека pos, название, исполнитель и альбом трека track_name, artist_name, album_name. Однако интересно не столько их конкретные названия, сколько отношения друг к другу и плейлисту. Например, в качестве дополнительных признаков можно выделить относительные величины встречаемости треков, исполнителей и альбомов как в данном плейлисте, так и на остальном множестве плейлистов.\n",
    "\n",
    "Таким образом, на начальном этапе можно выделить следующие признаки, которые или комбинации и преобразования которых могут быть полезными:\n",
    "\n",
    "*   num_albums\n",
    "*   num_artists\n",
    "*   duration_ms\n",
    "*   pos\n",
    "*   track_name\n",
    "*   artist_name\n",
    "*   album_name\n",
    "\n"
   ]
  },
  {
   "cell_type": "markdown",
   "metadata": {},
   "source": [
    "# Создание БД с треками"
   ]
  },
  {
   "cell_type": "code",
   "execution_count": 17,
   "metadata": {},
   "outputs": [],
   "source": [
    "def make_DataFrame(track_js):\n",
    "    return pd.DataFrame.from_dict(json.loads(track_js), orient='index')"
   ]
  },
  {
   "cell_type": "code",
   "execution_count": 18,
   "metadata": {},
   "outputs": [],
   "source": [
    "def make_json(track_dict):\n",
    "    return json.dumps(track_dict)"
   ]
  },
  {
   "cell_type": "code",
   "execution_count": 19,
   "metadata": {},
   "outputs": [],
   "source": [
    "def make_data_base(path):\n",
    "    track_dict = {}\n",
    "    \n",
    "    with zipfile.ZipFile(path, \"r\") as z:\n",
    "        for file_info in z.infolist():\n",
    "            if ('.json' in file_info.filename) & ('mpd.slice.' in file_info.filename):\n",
    "                with z.open(file_info.filename) as f:  \n",
    "                    js = f.read() \n",
    "                    mpd_slice = json.loads(js)\n",
    "\n",
    "                    for playlist in mpd_slice[\"playlists\"]:\n",
    "                        for track in playlist['tracks']:\n",
    "                            if track['track_uri'] not in track_dict.keys():\n",
    "                                track_dict[track['track_uri']] = {'track_name': track['track_name'], \n",
    "                                                                  'artist_name': track['artist_name'],\n",
    "                                                                  'album_name': track['album_name'],\n",
    "                                                                  'duration_ms': track['duration_ms']}\n",
    "    return json.dumps(track_dict)"
   ]
  },
  {
   "cell_type": "code",
   "execution_count": 20,
   "metadata": {},
   "outputs": [
    {
     "name": "stdout",
     "output_type": "stream",
     "text": [
      "Wall time: 5min 18s\n"
     ]
    }
   ],
   "source": [
    "%%time\n",
    "track_js = make_data_base(path)"
   ]
  },
  {
   "cell_type": "code",
   "execution_count": 23,
   "metadata": {},
   "outputs": [
    {
     "data": {
      "text/html": [
       "<div>\n",
       "<style scoped>\n",
       "    .dataframe tbody tr th:only-of-type {\n",
       "        vertical-align: middle;\n",
       "    }\n",
       "\n",
       "    .dataframe tbody tr th {\n",
       "        vertical-align: top;\n",
       "    }\n",
       "\n",
       "    .dataframe thead th {\n",
       "        text-align: right;\n",
       "    }\n",
       "</style>\n",
       "<table border=\"1\" class=\"dataframe\">\n",
       "  <thead>\n",
       "    <tr style=\"text-align: right;\">\n",
       "      <th></th>\n",
       "      <th>track_name</th>\n",
       "      <th>artist_name</th>\n",
       "      <th>album_name</th>\n",
       "      <th>duration_ms</th>\n",
       "    </tr>\n",
       "  </thead>\n",
       "  <tbody>\n",
       "    <tr>\n",
       "      <th>spotify:track:6QHYEZlm9wyfXfEM1vSu1P</th>\n",
       "      <td>Boots of Spanish Leather</td>\n",
       "      <td>Bob Dylan</td>\n",
       "      <td>The Times They Are A-Changin'</td>\n",
       "      <td>277106</td>\n",
       "    </tr>\n",
       "    <tr>\n",
       "      <th>spotify:track:3RkQ3UwOyPqpIiIvGVewuU</th>\n",
       "      <td>Mr. Tambourine Man</td>\n",
       "      <td>Bob Dylan</td>\n",
       "      <td>Bringing It All Back Home</td>\n",
       "      <td>330533</td>\n",
       "    </tr>\n",
       "    <tr>\n",
       "      <th>spotify:track:0ju1jP0cSPJ8tmojYBEI89</th>\n",
       "      <td>Danny's Song</td>\n",
       "      <td>Loggins &amp; Messina</td>\n",
       "      <td>The Best: Loggins &amp; Messina Sittin' In Again</td>\n",
       "      <td>254653</td>\n",
       "    </tr>\n",
       "    <tr>\n",
       "      <th>spotify:track:7ny2ATvjtKszCpLpfsGnVQ</th>\n",
       "      <td>A Hard Rain's A-Gonna Fall</td>\n",
       "      <td>Bob Dylan</td>\n",
       "      <td>The Freewheelin' Bob Dylan</td>\n",
       "      <td>412200</td>\n",
       "    </tr>\n",
       "    <tr>\n",
       "      <th>spotify:track:18GiV1BaXzPVYpp9rmOg0E</th>\n",
       "      <td>Blowin' In the Wind</td>\n",
       "      <td>Bob Dylan</td>\n",
       "      <td>The Freewheelin' Bob Dylan</td>\n",
       "      <td>165426</td>\n",
       "    </tr>\n",
       "  </tbody>\n",
       "</table>\n",
       "</div>"
      ],
      "text/plain": [
       "                                                      track_name  \\\n",
       "spotify:track:6QHYEZlm9wyfXfEM1vSu1P    Boots of Spanish Leather   \n",
       "spotify:track:3RkQ3UwOyPqpIiIvGVewuU          Mr. Tambourine Man   \n",
       "spotify:track:0ju1jP0cSPJ8tmojYBEI89                Danny's Song   \n",
       "spotify:track:7ny2ATvjtKszCpLpfsGnVQ  A Hard Rain's A-Gonna Fall   \n",
       "spotify:track:18GiV1BaXzPVYpp9rmOg0E         Blowin' In the Wind   \n",
       "\n",
       "                                            artist_name  \\\n",
       "spotify:track:6QHYEZlm9wyfXfEM1vSu1P          Bob Dylan   \n",
       "spotify:track:3RkQ3UwOyPqpIiIvGVewuU          Bob Dylan   \n",
       "spotify:track:0ju1jP0cSPJ8tmojYBEI89  Loggins & Messina   \n",
       "spotify:track:7ny2ATvjtKszCpLpfsGnVQ          Bob Dylan   \n",
       "spotify:track:18GiV1BaXzPVYpp9rmOg0E          Bob Dylan   \n",
       "\n",
       "                                                                        album_name  \\\n",
       "spotify:track:6QHYEZlm9wyfXfEM1vSu1P                 The Times They Are A-Changin'   \n",
       "spotify:track:3RkQ3UwOyPqpIiIvGVewuU                     Bringing It All Back Home   \n",
       "spotify:track:0ju1jP0cSPJ8tmojYBEI89  The Best: Loggins & Messina Sittin' In Again   \n",
       "spotify:track:7ny2ATvjtKszCpLpfsGnVQ                    The Freewheelin' Bob Dylan   \n",
       "spotify:track:18GiV1BaXzPVYpp9rmOg0E                    The Freewheelin' Bob Dylan   \n",
       "\n",
       "                                      duration_ms  \n",
       "spotify:track:6QHYEZlm9wyfXfEM1vSu1P       277106  \n",
       "spotify:track:3RkQ3UwOyPqpIiIvGVewuU       330533  \n",
       "spotify:track:0ju1jP0cSPJ8tmojYBEI89       254653  \n",
       "spotify:track:7ny2ATvjtKszCpLpfsGnVQ       412200  \n",
       "spotify:track:18GiV1BaXzPVYpp9rmOg0E       165426  "
      ]
     },
     "execution_count": 23,
     "metadata": {},
     "output_type": "execute_result"
    }
   ],
   "source": [
    "make_DataFrame(track_js).head()"
   ]
  },
  {
   "cell_type": "code",
   "execution_count": 24,
   "metadata": {},
   "outputs": [],
   "source": [
    "with open('tracks.json', 'w', encoding='utf-8') as f:\n",
    "    json.dump(json.loads(track_js), f, ensure_ascii=False)"
   ]
  },
  {
   "cell_type": "code",
   "execution_count": 25,
   "metadata": {},
   "outputs": [],
   "source": [
    "df = make_DataFrame(track_js)"
   ]
  },
  {
   "cell_type": "code",
   "execution_count": 52,
   "metadata": {},
   "outputs": [
    {
     "data": {
      "text/html": [
       "<div>\n",
       "<style scoped>\n",
       "    .dataframe tbody tr th:only-of-type {\n",
       "        vertical-align: middle;\n",
       "    }\n",
       "\n",
       "    .dataframe tbody tr th {\n",
       "        vertical-align: top;\n",
       "    }\n",
       "\n",
       "    .dataframe thead th {\n",
       "        text-align: right;\n",
       "    }\n",
       "</style>\n",
       "<table border=\"1\" class=\"dataframe\">\n",
       "  <thead>\n",
       "    <tr style=\"text-align: right;\">\n",
       "      <th></th>\n",
       "      <th>track_name</th>\n",
       "      <th>artist_name</th>\n",
       "      <th>album_name</th>\n",
       "      <th>duration_ms</th>\n",
       "    </tr>\n",
       "  </thead>\n",
       "  <tbody>\n",
       "    <tr>\n",
       "      <th>spotify:track:3ecvnatX2V8cjPr1NMce05</th>\n",
       "      <td>Street Hassle</td>\n",
       "      <td>Lou Reed</td>\n",
       "      <td>Street Hassle</td>\n",
       "      <td>659586</td>\n",
       "    </tr>\n",
       "    <tr>\n",
       "      <th>spotify:track:4vzV11MKDc82D9r1YV61MQ</th>\n",
       "      <td>Moonlight in Atlanta</td>\n",
       "      <td>Russ</td>\n",
       "      <td>Moonlight in Atlanta</td>\n",
       "      <td>163500</td>\n",
       "    </tr>\n",
       "    <tr>\n",
       "      <th>spotify:track:6KK3IkNcUwl5yjvNfwSYME</th>\n",
       "      <td>Evening In Space</td>\n",
       "      <td>Daphne Guinness</td>\n",
       "      <td>Optimist In Black</td>\n",
       "      <td>263626</td>\n",
       "    </tr>\n",
       "    <tr>\n",
       "      <th>spotify:track:6IvktxEWvlkL5KgXRSVfGV</th>\n",
       "      <td>Moshe Emet Ve'Torato Emet</td>\n",
       "      <td>Pirchei Miami</td>\n",
       "      <td>Mak'helat Ha'Yeladim - Pirchei Miami</td>\n",
       "      <td>198200</td>\n",
       "    </tr>\n",
       "    <tr>\n",
       "      <th>spotify:track:1NhU3JapaFWaVLYCo3Xidy</th>\n",
       "      <td>Birthday Party Invitation</td>\n",
       "      <td>社交ダンス クラブ</td>\n",
       "      <td>(ダンス) Dancing Music: 社交ダンス, カリプソ, ソカ</td>\n",
       "      <td>225600</td>\n",
       "    </tr>\n",
       "  </tbody>\n",
       "</table>\n",
       "</div>"
      ],
      "text/plain": [
       "                                                     track_name  \\\n",
       "spotify:track:3ecvnatX2V8cjPr1NMce05              Street Hassle   \n",
       "spotify:track:4vzV11MKDc82D9r1YV61MQ       Moonlight in Atlanta   \n",
       "spotify:track:6KK3IkNcUwl5yjvNfwSYME           Evening In Space   \n",
       "spotify:track:6IvktxEWvlkL5KgXRSVfGV  Moshe Emet Ve'Torato Emet   \n",
       "spotify:track:1NhU3JapaFWaVLYCo3Xidy  Birthday Party Invitation   \n",
       "\n",
       "                                          artist_name  \\\n",
       "spotify:track:3ecvnatX2V8cjPr1NMce05         Lou Reed   \n",
       "spotify:track:4vzV11MKDc82D9r1YV61MQ             Russ   \n",
       "spotify:track:6KK3IkNcUwl5yjvNfwSYME  Daphne Guinness   \n",
       "spotify:track:6IvktxEWvlkL5KgXRSVfGV    Pirchei Miami   \n",
       "spotify:track:1NhU3JapaFWaVLYCo3Xidy        社交ダンス クラブ   \n",
       "\n",
       "                                                                album_name  \\\n",
       "spotify:track:3ecvnatX2V8cjPr1NMce05                         Street Hassle   \n",
       "spotify:track:4vzV11MKDc82D9r1YV61MQ                  Moonlight in Atlanta   \n",
       "spotify:track:6KK3IkNcUwl5yjvNfwSYME                     Optimist In Black   \n",
       "spotify:track:6IvktxEWvlkL5KgXRSVfGV  Mak'helat Ha'Yeladim - Pirchei Miami   \n",
       "spotify:track:1NhU3JapaFWaVLYCo3Xidy  (ダンス) Dancing Music: 社交ダンス, カリプソ, ソカ   \n",
       "\n",
       "                                      duration_ms  \n",
       "spotify:track:3ecvnatX2V8cjPr1NMce05       659586  \n",
       "spotify:track:4vzV11MKDc82D9r1YV61MQ       163500  \n",
       "spotify:track:6KK3IkNcUwl5yjvNfwSYME       263626  \n",
       "spotify:track:6IvktxEWvlkL5KgXRSVfGV       198200  \n",
       "spotify:track:1NhU3JapaFWaVLYCo3Xidy       225600  "
      ]
     },
     "execution_count": 52,
     "metadata": {},
     "output_type": "execute_result"
    }
   ],
   "source": [
    "df.sample(5)"
   ]
  },
  {
   "cell_type": "markdown",
   "metadata": {
    "id": "Qxr0PupLYzX3"
   },
   "source": [
    "# Статистика по данным"
   ]
  },
  {
   "cell_type": "markdown",
   "metadata": {
    "id": "lHpfOdMpY6V4"
   },
   "source": [
    "Получу первичную статистику по данным."
   ]
  },
  {
   "cell_type": "code",
   "execution_count": 53,
   "metadata": {
    "id": "GP1yEuGxylQb"
   },
   "outputs": [],
   "source": [
    "class Stats:\n",
    "\n",
    "    def __init__(self, quick=False, max_files_for_quick_processing=5):\n",
    "        self.total_playlists = 0\n",
    "        self.total_tracks = 0\n",
    "        self.tracks = set()\n",
    "        self.artists = set()\n",
    "        self.albums = set()\n",
    "        self.titles = set()\n",
    "        self.total_descriptions = 0\n",
    "        self.ntitles = set()\n",
    "        self.title_histogram = collections.Counter()\n",
    "        self.artist_histogram = collections.Counter()\n",
    "        self.track_histogram = collections.Counter()\n",
    "        self.last_modified_histogram = collections.Counter()\n",
    "        self.num_edits_histogram = collections.Counter()\n",
    "        self.playlist_length_histogram = collections.Counter()\n",
    "        self.num_followers_histogram = collections.Counter()\n",
    "\n",
    "        self.quick = quick\n",
    "        self.max_files_for_quick_processing = max_files_for_quick_processing\n",
    "\n",
    "\n",
    "    def __getstate__(self) -> dict:\n",
    "        state = {}\n",
    "        \n",
    "        state[\"total_playlists\"] = self.total_playlists\n",
    "        state[\"total_tracks\"] = self.total_tracks\n",
    "        state[\"tracks\"] = self.tracks\n",
    "        state[\"artists\"] = self.artists\n",
    "        state[\"albums\"] = self.albums\n",
    "        state[\"titles\"] = self.titles\n",
    "        state[\"total_descriptions\"] = self.total_descriptions\n",
    "        state[\"ntitles\"] = self.ntitles\n",
    "        state[\"title_histogram\"] = self.title_histogram\n",
    "        state[\"artist_histogram\"] = self.artist_histogram\n",
    "        state[\"track_histogram\"] = self.track_histogram\n",
    "        state[\"last_modified_histogram\"] = self.last_modified_histogram\n",
    "        state[\"num_edits_histogram\"] = self.num_edits_histogram\n",
    "        state[\"playlist_length_histogram\"] = self.playlist_length_histogram\n",
    "        state[\"num_followers_histogram\"] = self.num_followers_histogram\n",
    "      \n",
    "        state[\"quick\"] = self.quick\n",
    "        state[\"max_files_for_quick_processing\"] = self.max_files_for_quick_processing\n",
    "\n",
    "        return state\n",
    "    \n",
    "    # для загрузки объекта\n",
    "    def __setstate__(self, state: dict):\n",
    "        self.total_playlists = state[\"total_playlists\"]\n",
    "        self.total_tracks = state[\"total_tracks\"]\n",
    "        self.tracks = state[\"tracks\"]\n",
    "        self.artists = state[\"artists\"]\n",
    "        self.albums = state[\"albums\"]\n",
    "        self.titles = state[\"titles\"]\n",
    "        self.total_descriptions = state[\"total_descriptions\"]\n",
    "        self.ntitles = state[\"ntitles\"]\n",
    "        self.title_histogram = state[\"title_histogram\"]\n",
    "        self.artist_histogram = state[\"artist_histogram\"]\n",
    "        self.track_histogram = state[\"track_histogram\"]\n",
    "        self.last_modified_histogram = state[\"last_modified_histogram\"]\n",
    "        self.num_edits_histogram = state[\"num_edits_histogram\"]\n",
    "        self.playlist_length_histogram = state[\"playlist_length_histogram\"]\n",
    "        self.num_followers_histogram = state[\"num_followers_histogram\"]\n",
    "\n",
    "        self.quick = state[\"quick\"]\n",
    "        self.max_files_for_quick_processing = state[\"max_files_for_quick_processing\"]\n",
    "\n",
    "    def process_mpd(self, path, summary=False):\n",
    "        count = 0\n",
    "\n",
    "        with zipfile.ZipFile(path, \"r\") as z:\n",
    "            for file_info in z.infolist():\n",
    "                if ('.json' in file_info.filename) & ('mpd.slice.' in file_info.filename):\n",
    "                    with z.open(file_info.filename) as f:  \n",
    "                        js = f.read() \n",
    "                        mpd_slice = json.loads(js)\n",
    "\n",
    "                        self.process_info(mpd_slice[\"info\"])\n",
    "\n",
    "                        for playlist in mpd_slice[\"playlists\"]:\n",
    "                            self.process_playlist(playlist)\n",
    "\n",
    "                count += 1\n",
    "                if self.quick and count > self.max_files_for_quick_processing:\n",
    "                      break\n",
    "\n",
    "        if summary:\n",
    "            self.show_summary()\n",
    "\n",
    "    def show_summary(self, k=20):\n",
    "        print()\n",
    "        print(\"number of playlists\", self.total_playlists)\n",
    "        print(\"number of tracks\", self.total_tracks)\n",
    "        print(\"number of unique tracks\", len(self.tracks))\n",
    "        print(\"number of unique albums\", len(self.albums))\n",
    "        print(\"number of unique artists\", len(self.artists))\n",
    "        print(\"number of unique titles\", len(self.titles))\n",
    "        print(\"number of playlists with descriptions\", self.total_descriptions)\n",
    "        print(\"number of unique normalized titles\", len(self.ntitles))\n",
    "        print(\"avg playlist length\", float(self.total_tracks) / self.total_playlists)\n",
    "        print()\n",
    "        print(\"top playlist titles\")\n",
    "        for title, count in self.title_histogram.most_common(k):\n",
    "            print(\"%7d %s\" % (count, title))\n",
    "\n",
    "        print()\n",
    "        print(\"top tracks\")\n",
    "        for track, count in self.track_histogram.most_common(k):\n",
    "            print(\"%7d %s\" % (count, track))\n",
    "\n",
    "        print()\n",
    "        print(\"top artists\")\n",
    "        for artist, count in self.artist_histogram.most_common(k):\n",
    "            print(\"%7d %s\" % (count, artist))\n",
    "\n",
    "        print()\n",
    "        print(\"numedits histogram\")\n",
    "        for num_edits, count in self.num_edits_histogram.most_common(k):\n",
    "            print(\"%7d %d\" % (count, num_edits))\n",
    "\n",
    "        print()\n",
    "        print(\"last modified histogram\")\n",
    "        for ts, count in self.last_modified_histogram.most_common(k):\n",
    "            print(\"%7d %s\" % (count, Stats.to_date(ts)))\n",
    "\n",
    "        print()\n",
    "        print(\"playlist length histogram\")\n",
    "        for length, count in self.playlist_length_histogram.most_common(k):\n",
    "            print(\"%7d %d\" % (count, length))\n",
    "\n",
    "        print()\n",
    "        print(\"num followers histogram\")\n",
    "        for followers, count in self.num_followers_histogram.most_common(k):\n",
    "            print(\"%7d %d\" % (count, followers))\n",
    "\n",
    "    def normalize_name(name):\n",
    "        name = name.lower()\n",
    "        name = re.sub(r\"[.,\\/#!$%\\^\\*;:{}=\\_`~()@]\", \" \", name)\n",
    "        name = re.sub(r\"\\s+\", \" \", name).strip()\n",
    "        return name\n",
    "\n",
    "    def to_date(epoch):\n",
    "        return datetime.datetime.fromtimestamp(epoch).strftime(\"%Y-%m-%d\")\n",
    "\n",
    "    def process_playlist(self, playlist):\n",
    "        self.total_playlists += 1\n",
    "        # print playlist['playlist_id'], playlist['name']\n",
    "\n",
    "        if \"description\" in playlist:\n",
    "            self.total_descriptions += 1\n",
    "\n",
    "        self.titles.add(playlist[\"name\"])\n",
    "        nname = Stats.normalize_name(playlist[\"name\"])\n",
    "        self.ntitles.add(nname)\n",
    "        self.title_histogram[nname] += 1\n",
    "\n",
    "        self.playlist_length_histogram[playlist[\"num_tracks\"]] += 1\n",
    "        self.last_modified_histogram[playlist[\"modified_at\"]] += 1\n",
    "        self.num_edits_histogram[playlist[\"num_edits\"]] += 1\n",
    "        self.num_followers_histogram[playlist[\"num_followers\"]] += 1\n",
    "\n",
    "        for track in playlist[\"tracks\"]:\n",
    "            self.total_tracks += 1\n",
    "            self.albums.add(track[\"album_uri\"])\n",
    "            self.tracks.add(track[\"track_uri\"])\n",
    "            self.artists.add(track[\"artist_uri\"])\n",
    "\n",
    "            full_name = track[\"track_name\"] + \" by \" + track[\"artist_name\"]\n",
    "            self.artist_histogram[track[\"artist_name\"]] += 1\n",
    "            self.track_histogram[full_name] += 1  \n",
    "\n",
    "    def process_info(self, _):\n",
    "        pass "
   ]
  },
  {
   "cell_type": "code",
   "execution_count": 54,
   "metadata": {
    "id": "rEBU7HSjg_3e"
   },
   "outputs": [],
   "source": [
    "stats = Stats()"
   ]
  },
  {
   "cell_type": "code",
   "execution_count": 55,
   "metadata": {
    "colab": {
     "base_uri": "https://localhost:8080/"
    },
    "id": "KRfQYi6HgqE7",
    "outputId": "ed9dc44b-f27b-4535-a8f8-9a73c6106b49"
   },
   "outputs": [
    {
     "name": "stdout",
     "output_type": "stream",
     "text": [
      "Wall time: 7min 29s\n"
     ]
    }
   ],
   "source": [
    "%%time\n",
    "stats.process_mpd(path)"
   ]
  },
  {
   "cell_type": "code",
   "execution_count": 56,
   "metadata": {
    "id": "UAqxWQRygfef"
   },
   "outputs": [],
   "source": [
    "with open(\"stats.pkl\", \"wb\") as fp: #/content/drive/My Drive/АИПТ/\n",
    "    pickle.dump(stats, fp)"
   ]
  },
  {
   "cell_type": "code",
   "execution_count": 57,
   "metadata": {
    "id": "J9C94m74ZN5G"
   },
   "outputs": [],
   "source": [
    "with open(\"stats.pkl\", \"rb\") as fp: #/content/drive/My Drive/АИПТ/\n",
    "    stats = pickle.load(fp)"
   ]
  },
  {
   "cell_type": "code",
   "execution_count": 58,
   "metadata": {
    "colab": {
     "base_uri": "https://localhost:8080/"
    },
    "id": "r8wkDyCvpUc5",
    "outputId": "8f98c5a4-9e9a-42b7-8ffb-c0f267545df2",
    "scrolled": true
   },
   "outputs": [
    {
     "name": "stdout",
     "output_type": "stream",
     "text": [
      "\n",
      "number of playlists 1000000\n",
      "number of tracks 66346428\n",
      "number of unique tracks 2262292\n",
      "number of unique albums 734684\n",
      "number of unique artists 295860\n",
      "number of unique titles 92944\n",
      "number of playlists with descriptions 18760\n",
      "number of unique normalized titles 17381\n",
      "avg playlist length 66.346428\n",
      "\n",
      "top playlist titles\n",
      "  10000 country\n",
      "  10000 chill\n",
      "   8493 rap\n",
      "   8481 workout\n",
      "   8146 oldies\n",
      "   8015 christmas\n",
      "   6848 rock\n",
      "   6157 party\n",
      "   5883 throwback\n",
      "   5063 jams\n",
      "\n",
      "top tracks\n",
      "  46574 HUMBLE. by Kendrick Lamar\n",
      "  43447 One Dance by Drake\n",
      "  41309 Broccoli (feat. Lil Yachty) by DRAM\n",
      "  41079 Closer by The Chainsmokers\n",
      "  39987 Congratulations by Post Malone\n",
      "  35202 Caroline by Aminé\n",
      "  35138 iSpy (feat. Lil Yachty) by KYLE\n",
      "  34999 Bad and Boujee (feat. Lil Uzi Vert) by Migos\n",
      "  34990 Location by Khalid\n",
      "  34922 XO TOUR Llif3 by Lil Uzi Vert\n",
      "\n",
      "top artists\n",
      " 847160 Drake\n",
      " 413297 Kanye West\n",
      " 353624 Kendrick Lamar\n",
      " 339570 Rihanna\n",
      " 316603 The Weeknd\n",
      " 294667 Eminem\n",
      " 272116 Ed Sheeran\n",
      " 250734 Future\n",
      " 243119 Justin Bieber\n",
      " 241560 J. Cole\n",
      "\n",
      "numedits histogram\n",
      "  92252 2\n",
      "  81820 3\n",
      "  71973 4\n",
      "  61978 5\n",
      "  53085 6\n",
      "  46860 7\n",
      "  41210 8\n",
      "  36629 9\n",
      "  32810 10\n",
      "  29907 11\n",
      "\n",
      "last modified histogram\n",
      "  19018 2017-10-31\n",
      "  15495 2017-10-30\n",
      "  11640 2017-10-27\n",
      "  11083 2017-10-29\n",
      "   9994 2017-10-28\n",
      "   9727 2017-10-26\n",
      "   9142 2017-10-25\n",
      "   8588 2017-10-24\n",
      "   7953 2017-10-23\n",
      "   6980 2017-10-20\n",
      "\n",
      "playlist length histogram\n",
      "  15057 20\n",
      "  14177 15\n",
      "  13876 21\n",
      "  13856 16\n",
      "  13685 17\n",
      "  13629 18\n",
      "  13602 22\n",
      "  13531 19\n",
      "  13250 24\n",
      "  13149 23\n",
      "\n",
      "num followers histogram\n",
      " 754219 1\n",
      " 149600 2\n",
      "  46939 3\n",
      "  19591 4\n",
      "   9813 5\n",
      "   5360 6\n",
      "   3305 7\n",
      "   2143 8\n",
      "   1512 9\n",
      "   1006 10\n"
     ]
    }
   ],
   "source": [
    "stats.show_summary(10)"
   ]
  },
  {
   "cell_type": "markdown",
   "metadata": {
    "id": "PIZixDo8Zu2T"
   },
   "source": [
    "На что сразу можно обратить внимание - у относительно небольшого количества плейлистов есть описание."
   ]
  },
  {
   "cell_type": "code",
   "execution_count": 59,
   "metadata": {
    "colab": {
     "base_uri": "https://localhost:8080/"
    },
    "id": "ANxBbCiOpk4j",
    "outputId": "b97047ba-b3ca-49a3-e543-3e84afa0d145"
   },
   "outputs": [
    {
     "data": {
      "text/plain": [
       "1.876"
      ]
     },
     "execution_count": 59,
     "metadata": {},
     "output_type": "execute_result"
    }
   ],
   "source": [
    "stats.total_descriptions / stats.total_playlists * 100"
   ]
  },
  {
   "cell_type": "markdown",
   "metadata": {
    "id": "5nPv-kNGpt9S"
   },
   "source": [
    "Только 1.8% плейлистов имеют описание, поэтому данный признак не будет использоваться."
   ]
  },
  {
   "cell_type": "code",
   "execution_count": 60,
   "metadata": {
    "colab": {
     "base_uri": "https://localhost:8080/"
    },
    "id": "gbidUodDanws",
    "outputId": "5fd13ea5-408e-4947-f2ea-9f1e53ef8460"
   },
   "outputs": [
    {
     "data": {
      "text/plain": [
       "57.53408894770151"
      ]
     },
     "execution_count": 60,
     "metadata": {},
     "output_type": "execute_result"
    }
   ],
   "source": [
    "stats.total_playlists / len(stats.ntitles)"
   ]
  },
  {
   "cell_type": "markdown",
   "metadata": {
    "id": "V7A5Rx_ja-CW"
   },
   "source": [
    "Название альбома - достаточно емкий показатель, так как на каждое нормализированное название приходится в среднем 57 плейлистов, то есть данный признако может быть полезен при первичной генерации множества треков для ранжирования, однако он не может быть использован непосредственно при ранжировании."
   ]
  },
  {
   "cell_type": "code",
   "execution_count": 61,
   "metadata": {
    "colab": {
     "base_uri": "https://localhost:8080/"
    },
    "id": "DYEz4I7cc7ox",
    "outputId": "1ee29b8e-b0ff-43a3-ac65-6ea05fdd0c14"
   },
   "outputs": [
    {
     "data": {
      "text/plain": [
       "75.4219"
      ]
     },
     "execution_count": 61,
     "metadata": {},
     "output_type": "execute_result"
    }
   ],
   "source": [
    "stats.num_followers_histogram.most_common(1)[0][1] / stats.total_playlists * 100"
   ]
  },
  {
   "cell_type": "markdown",
   "metadata": {
    "id": "EkG-s8n7dNyH"
   },
   "source": [
    "Также можно видеть, что у более чем 75% плейлистов только один подписчик, что может свидетельствовать о неинформативности данного признака."
   ]
  },
  {
   "cell_type": "markdown",
   "metadata": {
    "id": "j_YcEfwDdpEY"
   },
   "source": [
    "Использование такого признака, как длина плейлиста, невозможно по причине того, что при составлении своего плейлиста пользователь редко может точно знать, сколько треков будет в нем. Поэтому, использование данного показателя - своего рода заглядывание в будущее, поэтому результаты могут быть нерепрезентативными и невоспроизводимыми в дальнейшем."
   ]
  },
  {
   "cell_type": "markdown",
   "metadata": {
    "id": "dVQ2mX2KeiX1"
   },
   "source": [
    "Признаки, связанные с информацией по модификации плейлиста, также не представляют интереса, так как они не являются информативной характеристикой для анализа содержательной части плейлиста."
   ]
  },
  {
   "cell_type": "markdown",
   "metadata": {
    "id": "Vln9vGYgfVmk"
   },
   "source": [
    "# Количественные распределения "
   ]
  },
  {
   "cell_type": "markdown",
   "metadata": {
    "id": "HDFXdm2yfoPE"
   },
   "source": [
    "Для хорошей визуализации распределений количеств различных показателей необходимо предварительно удалить выбросы, так как по предварительной статистике можно видеть, что некоторые треки, исполнители и названия присутствует в достаточно большом количестве плейлистов. "
   ]
  },
  {
   "cell_type": "code",
   "execution_count": 62,
   "metadata": {
    "id": "8_OnjUCUqtaX"
   },
   "outputs": [],
   "source": [
    "def find_anomaly(data):\n",
    "    q75, q25 = np.percentile(data, [75, 25])\n",
    "    intr_qr = q75 - q25\n",
    "\n",
    "    ma = q75 + (1.5 * intr_qr)\n",
    "    mi = q25 - (1.5 * intr_qr)\n",
    "\n",
    "    return data[(data < mi) | (data > ma)], data[(data >= mi) & (data <= ma)]"
   ]
  },
  {
   "cell_type": "code",
   "execution_count": 63,
   "metadata": {
    "colab": {
     "base_uri": "https://localhost:8080/"
    },
    "id": "Hl2V9j8Grl9P",
    "outputId": "7b21b14a-a94d-4336-adc0-6d15a819be8f"
   },
   "outputs": [
    {
     "data": {
      "text/plain": [
       "1.9097521087966949"
      ]
     },
     "execution_count": 63,
     "metadata": {},
     "output_type": "execute_result"
    }
   ],
   "source": [
    "title_anomaly, title_counts = find_anomaly(np.array(list(stats.title_histogram.values())))\n",
    "title_anomaly.shape[0] / len(stats.titles) * 100"
   ]
  },
  {
   "cell_type": "markdown",
   "metadata": {
    "id": "WnlhiP3nsYKK"
   },
   "source": [
    "Около 2% названий плейлистов упоминается аномальное количество раз."
   ]
  },
  {
   "cell_type": "code",
   "execution_count": 64,
   "metadata": {
    "id": "rjmf5qybtSEu"
   },
   "outputs": [],
   "source": [
    "def make_hist(data, title):\n",
    "    sns.distplot(data, rug=True, color='red')\n",
    "    plt.xlabel(title)\n",
    "    plt.show()  "
   ]
  },
  {
   "cell_type": "code",
   "execution_count": 65,
   "metadata": {
    "colab": {
     "base_uri": "https://localhost:8080/",
     "height": 285
    },
    "id": "Lkns2pduqpKl",
    "outputId": "d473c0eb-3837-4ee2-95f9-d2ac8e9241a1"
   },
   "outputs": [
    {
     "data": {
      "image/png": "[encoded data removed]",
      "text/plain": [
       "<Figure size 432x288 with 1 Axes>"
      ]
     },
     "metadata": {},
     "output_type": "display_data"
    }
   ],
   "source": [
    "make_hist(title_counts, 'Распределение количества упоминаний названия плейлиста')"
   ]
  },
  {
   "cell_type": "markdown",
   "metadata": {
    "id": "fKBX175Fgt-E"
   },
   "source": [
    "Большинство нормализированных названий плейлистов упоминаются в достаточно небольшом их количестве."
   ]
  },
  {
   "cell_type": "code",
   "execution_count": 66,
   "metadata": {
    "colab": {
     "base_uri": "https://localhost:8080/"
    },
    "id": "d_afoaHxhFpw",
    "outputId": "7914c9a1-da40-4baf-9d92-e8ae07560d07"
   },
   "outputs": [
    {
     "data": {
      "text/plain": [
       "14.365696382253043"
      ]
     },
     "execution_count": 66,
     "metadata": {},
     "output_type": "execute_result"
    }
   ],
   "source": [
    "track_anomaly, track_counts = find_anomaly(np.array(list(stats.track_histogram.values())))\n",
    "track_anomaly.shape[0] / len(stats.tracks) * 100"
   ]
  },
  {
   "cell_type": "markdown",
   "metadata": {
    "id": "GVEzYIC6hkhQ"
   },
   "source": [
    "До 14% треков имеют аномальные количества упоминаний, поэтому необходимо будет продумать стратегию обработки таких треков, чтобы они не стали тривиальной рекомендацией для всех плейлистов. Решением данной проблемы может стать нормировка показателей на популярность трека."
   ]
  },
  {
   "cell_type": "code",
   "execution_count": 67,
   "metadata": {
    "colab": {
     "base_uri": "https://localhost:8080/",
     "height": 287
    },
    "id": "aNznKqBGiD_A",
    "outputId": "2e734a5f-ac6b-49a4-b524-35f8ea69a422"
   },
   "outputs": [
    {
     "data": {
      "image/png": "[encoded data removed]",
      "text/plain": [
       "<Figure size 432x288 with 1 Axes>"
      ]
     },
     "metadata": {},
     "output_type": "display_data"
    }
   ],
   "source": [
    "make_hist(track_counts, 'Распределение количества упоминаний треков')"
   ]
  },
  {
   "cell_type": "markdown",
   "metadata": {
    "id": "aYN-npaeiX86"
   },
   "source": [
    "Большиснтво треков присутствуют в 1-2 плейлистах, что может значительно сказаться не в лучшую сторону на качестве при использовании концепции совстречаемости треков."
   ]
  },
  {
   "cell_type": "code",
   "execution_count": 68,
   "metadata": {
    "colab": {
     "base_uri": "https://localhost:8080/"
    },
    "id": "1NAkK1lFi9XA",
    "outputId": "c88470f2-43ef-44d5-8606-36fd10d396fc"
   },
   "outputs": [
    {
     "data": {
      "text/plain": [
       "15.733455012505914"
      ]
     },
     "execution_count": 68,
     "metadata": {},
     "output_type": "execute_result"
    }
   ],
   "source": [
    "artists_anomaly, artists_counts = find_anomaly(np.array(list(stats.artist_histogram.values())))\n",
    "artists_anomaly.shape[0] / len(stats.artists) * 100"
   ]
  },
  {
   "cell_type": "code",
   "execution_count": 69,
   "metadata": {
    "colab": {
     "base_uri": "https://localhost:8080/",
     "height": 285
    },
    "id": "o9rWBYXvjVnG",
    "outputId": "c9494030-8cbf-4558-89de-8a901822ac44"
   },
   "outputs": [
    {
     "data": {
      "image/png": "[encoded data removed]",
      "text/plain": [
       "<Figure size 432x288 with 1 Axes>"
      ]
     },
     "metadata": {},
     "output_type": "display_data"
    }
   ],
   "source": [
    "make_hist(artists_counts, 'Распределение количества упоминаний исполнителей')"
   ]
  },
  {
   "cell_type": "markdown",
   "metadata": {
    "id": "UOTS9SI1jhGy"
   },
   "source": [
    "Для исполнителей характерна та же картина, что и для треков."
   ]
  },
  {
   "cell_type": "markdown",
   "metadata": {
    "id": "gyqVZjYWoUpU"
   },
   "source": [
    "# Co-occurrence matrix"
   ]
  },
  {
   "cell_type": "markdown",
   "metadata": {
    "id": "41scQ-Xtoiu-"
   },
   "source": [
    "Рассмотрю возможность построения матрицы совстречаемости треков. Для этого выберу случайный кусочек данных."
   ]
  },
  {
   "cell_type": "code",
   "execution_count": 27,
   "metadata": {
    "id": "YvHbz9dqRNIM"
   },
   "outputs": [],
   "source": [
    "number = random.randint(1, 1000)\n",
    "mpd_slice = read_slice(path, 'data/mpd.slice.' + str(number * 1000 - 1000) + \"-\" + str(number * 1000 - 1) + '.json')"
   ]
  },
  {
   "cell_type": "markdown",
   "metadata": {
    "id": "aI9jH_pIsVG7"
   },
   "source": [
    "В ячейках данной матрицы будут стоять значения количества плейлистов, в которых присуствовали оба трека, нормированные на количество плейлистов, где присуствовали данные треки."
   ]
  },
  {
   "cell_type": "code",
   "execution_count": 28,
   "metadata": {
    "id": "Q3LgVP2Ap7qA"
   },
   "outputs": [],
   "source": [
    "def make_playlist_df(slice_):\n",
    "    return pd.DataFrame.from_dict(slice_['playlists'], orient='columns')"
   ]
  },
  {
   "cell_type": "code",
   "execution_count": 29,
   "metadata": {
    "id": "3jtanf-JpQMA"
   },
   "outputs": [],
   "source": [
    "def make_track_df(slice_, cols):\n",
    "    df_slice = make_playlist_df(slice_)\n",
    "    songs = []\n",
    "\n",
    "    for index, row in df_slice.iterrows():\n",
    "        for track in row['tracks']:\n",
    "            arr = [row['pid']]\n",
    "            for col in cols:\n",
    "                arr.append(track[col])\n",
    "            songs.append(arr)\n",
    "\n",
    "    return pd.DataFrame(songs, columns=['pid'] + cols)"
   ]
  },
  {
   "cell_type": "code",
   "execution_count": 30,
   "metadata": {
    "colab": {
     "base_uri": "https://localhost:8080/",
     "height": 220
    },
    "id": "PneUWNcZR_rS",
    "outputId": "00f64b4c-3b0d-4f33-dca9-3579e05df356"
   },
   "outputs": [
    {
     "name": "stdout",
     "output_type": "stream",
     "text": [
      "(67566, 4)\n"
     ]
    },
    {
     "data": {
      "text/html": [
       "<div>\n",
       "<style scoped>\n",
       "    .dataframe tbody tr th:only-of-type {\n",
       "        vertical-align: middle;\n",
       "    }\n",
       "\n",
       "    .dataframe tbody tr th {\n",
       "        vertical-align: top;\n",
       "    }\n",
       "\n",
       "    .dataframe thead th {\n",
       "        text-align: right;\n",
       "    }\n",
       "</style>\n",
       "<table border=\"1\" class=\"dataframe\">\n",
       "  <thead>\n",
       "    <tr style=\"text-align: right;\">\n",
       "      <th></th>\n",
       "      <th>pid</th>\n",
       "      <th>track_uri</th>\n",
       "      <th>artist_name</th>\n",
       "      <th>track_name</th>\n",
       "    </tr>\n",
       "  </thead>\n",
       "  <tbody>\n",
       "    <tr>\n",
       "      <th>0</th>\n",
       "      <td>154000</td>\n",
       "      <td>spotify:track:1WP1r7fuvRqZRnUaTi2I1Q</td>\n",
       "      <td>Shawn Mendes</td>\n",
       "      <td>Stitches</td>\n",
       "    </tr>\n",
       "    <tr>\n",
       "      <th>1</th>\n",
       "      <td>154000</td>\n",
       "      <td>spotify:track:59uAvq0IeWRGkCJAki11ve</td>\n",
       "      <td>Shawn Mendes</td>\n",
       "      <td>Something Big</td>\n",
       "    </tr>\n",
       "    <tr>\n",
       "      <th>2</th>\n",
       "      <td>154000</td>\n",
       "      <td>spotify:track:4Hf7WnR761jpxPr5D46Bcd</td>\n",
       "      <td>Shawn Mendes</td>\n",
       "      <td>Treat You Better</td>\n",
       "    </tr>\n",
       "    <tr>\n",
       "      <th>3</th>\n",
       "      <td>154000</td>\n",
       "      <td>spotify:track:2Z6CwWW42ZqW6gUoxDhatU</td>\n",
       "      <td>Smosh</td>\n",
       "      <td>The Legend of Zelda Rap</td>\n",
       "    </tr>\n",
       "    <tr>\n",
       "      <th>4</th>\n",
       "      <td>154000</td>\n",
       "      <td>spotify:track:2JtZlYby65A8yYbSfNUMws</td>\n",
       "      <td>Smosh</td>\n",
       "      <td>Ultimate Assassin's Creed 3 Song</td>\n",
       "    </tr>\n",
       "  </tbody>\n",
       "</table>\n",
       "</div>"
      ],
      "text/plain": [
       "      pid                             track_uri   artist_name  \\\n",
       "0  154000  spotify:track:1WP1r7fuvRqZRnUaTi2I1Q  Shawn Mendes   \n",
       "1  154000  spotify:track:59uAvq0IeWRGkCJAki11ve  Shawn Mendes   \n",
       "2  154000  spotify:track:4Hf7WnR761jpxPr5D46Bcd  Shawn Mendes   \n",
       "3  154000  spotify:track:2Z6CwWW42ZqW6gUoxDhatU         Smosh   \n",
       "4  154000  spotify:track:2JtZlYby65A8yYbSfNUMws         Smosh   \n",
       "\n",
       "                         track_name  \n",
       "0                          Stitches  \n",
       "1                     Something Big  \n",
       "2                  Treat You Better  \n",
       "3           The Legend of Zelda Rap  \n",
       "4  Ultimate Assassin's Creed 3 Song  "
      ]
     },
     "execution_count": 30,
     "metadata": {},
     "output_type": "execute_result"
    }
   ],
   "source": [
    "songs_df = make_track_df(mpd_slice, ['track_uri', 'artist_name', 'track_name'])\n",
    "\n",
    "print(songs_df.shape)\n",
    "songs_df.head(5)   "
   ]
  },
  {
   "cell_type": "code",
   "execution_count": 31,
   "metadata": {
    "id": "xfBBCokl9-fy"
   },
   "outputs": [],
   "source": [
    "del mpd_slice"
   ]
  },
  {
   "cell_type": "code",
   "execution_count": 32,
   "metadata": {
    "colab": {
     "base_uri": "https://localhost:8080/"
    },
    "id": "Wvf6JzTFSZC4",
    "outputId": "e6778b5e-15e0-4823-c5b6-275043967580"
   },
   "outputs": [
    {
     "name": "stdout",
     "output_type": "stream",
     "text": [
      "(1000, 34311)\n",
      "Wall time: 10.6 s\n"
     ]
    },
    {
     "data": {
      "text/html": [
       "<div>\n",
       "<style scoped>\n",
       "    .dataframe tbody tr th:only-of-type {\n",
       "        vertical-align: middle;\n",
       "    }\n",
       "\n",
       "    .dataframe tbody tr th {\n",
       "        vertical-align: top;\n",
       "    }\n",
       "\n",
       "    .dataframe thead th {\n",
       "        text-align: right;\n",
       "    }\n",
       "</style>\n",
       "<table border=\"1\" class=\"dataframe\">\n",
       "  <thead>\n",
       "    <tr style=\"text-align: right;\">\n",
       "      <th>track_uri</th>\n",
       "      <th>spotify:track:000xQL6tZNLJzIrtIgxqSl</th>\n",
       "      <th>spotify:track:0039ATfqO4FezsTcAggPyD</th>\n",
       "      <th>spotify:track:0046NsE3QgADqnrV1NDhzJ</th>\n",
       "      <th>spotify:track:005GaX6hvgeTFnR9FvejTE</th>\n",
       "      <th>spotify:track:006AVH7fq061voGXkUiII4</th>\n",
       "      <th>spotify:track:007YzRKaY8AP8kZhzjDoUM</th>\n",
       "      <th>spotify:track:007ogFejDqJKzEXDUDF8Nf</th>\n",
       "      <th>spotify:track:0088Tt3QK3fMYodhkIEoUh</th>\n",
       "      <th>spotify:track:00BHe2yBtdOzhKPmI7rpTE</th>\n",
       "      <th>spotify:track:00BuKLSAFkaEkaVAgIMbeA</th>\n",
       "      <th>...</th>\n",
       "      <th>spotify:track:7znZvX0Mt6NBmaI8VCPurT</th>\n",
       "      <th>spotify:track:7zrPswSV1yxrill5OyCuaU</th>\n",
       "      <th>spotify:track:7zscdQe9CjzXnqT3P1Ey7K</th>\n",
       "      <th>spotify:track:7zsfZMKokyicvr9hR9Xc8A</th>\n",
       "      <th>spotify:track:7ztpJweDp290g4mzNFJHGo</th>\n",
       "      <th>spotify:track:7zuqsNtIkksF5U9OEjqXlk</th>\n",
       "      <th>spotify:track:7zvzEOdelLaXM4aJYE29PT</th>\n",
       "      <th>spotify:track:7zxRMhXxJMQCeDDg0rKAVo</th>\n",
       "      <th>spotify:track:7zyo93bLysAjU08Enina9r</th>\n",
       "      <th>spotify:track:7zyqJJ0QwajaHaPLCqZFXN</th>\n",
       "    </tr>\n",
       "    <tr>\n",
       "      <th>pid</th>\n",
       "      <th></th>\n",
       "      <th></th>\n",
       "      <th></th>\n",
       "      <th></th>\n",
       "      <th></th>\n",
       "      <th></th>\n",
       "      <th></th>\n",
       "      <th></th>\n",
       "      <th></th>\n",
       "      <th></th>\n",
       "      <th></th>\n",
       "      <th></th>\n",
       "      <th></th>\n",
       "      <th></th>\n",
       "      <th></th>\n",
       "      <th></th>\n",
       "      <th></th>\n",
       "      <th></th>\n",
       "      <th></th>\n",
       "      <th></th>\n",
       "      <th></th>\n",
       "    </tr>\n",
       "  </thead>\n",
       "  <tbody>\n",
       "    <tr>\n",
       "      <th>154000</th>\n",
       "      <td>0</td>\n",
       "      <td>0</td>\n",
       "      <td>0</td>\n",
       "      <td>0</td>\n",
       "      <td>0</td>\n",
       "      <td>0</td>\n",
       "      <td>0</td>\n",
       "      <td>0</td>\n",
       "      <td>0</td>\n",
       "      <td>0</td>\n",
       "      <td>...</td>\n",
       "      <td>0</td>\n",
       "      <td>0</td>\n",
       "      <td>0</td>\n",
       "      <td>0</td>\n",
       "      <td>0</td>\n",
       "      <td>0</td>\n",
       "      <td>0</td>\n",
       "      <td>0</td>\n",
       "      <td>0</td>\n",
       "      <td>0</td>\n",
       "    </tr>\n",
       "    <tr>\n",
       "      <th>154001</th>\n",
       "      <td>0</td>\n",
       "      <td>0</td>\n",
       "      <td>0</td>\n",
       "      <td>0</td>\n",
       "      <td>0</td>\n",
       "      <td>0</td>\n",
       "      <td>0</td>\n",
       "      <td>0</td>\n",
       "      <td>0</td>\n",
       "      <td>0</td>\n",
       "      <td>...</td>\n",
       "      <td>0</td>\n",
       "      <td>0</td>\n",
       "      <td>0</td>\n",
       "      <td>0</td>\n",
       "      <td>0</td>\n",
       "      <td>0</td>\n",
       "      <td>0</td>\n",
       "      <td>0</td>\n",
       "      <td>0</td>\n",
       "      <td>0</td>\n",
       "    </tr>\n",
       "    <tr>\n",
       "      <th>154002</th>\n",
       "      <td>0</td>\n",
       "      <td>0</td>\n",
       "      <td>0</td>\n",
       "      <td>0</td>\n",
       "      <td>0</td>\n",
       "      <td>0</td>\n",
       "      <td>0</td>\n",
       "      <td>0</td>\n",
       "      <td>0</td>\n",
       "      <td>0</td>\n",
       "      <td>...</td>\n",
       "      <td>0</td>\n",
       "      <td>0</td>\n",
       "      <td>0</td>\n",
       "      <td>0</td>\n",
       "      <td>0</td>\n",
       "      <td>0</td>\n",
       "      <td>0</td>\n",
       "      <td>0</td>\n",
       "      <td>0</td>\n",
       "      <td>0</td>\n",
       "    </tr>\n",
       "    <tr>\n",
       "      <th>154003</th>\n",
       "      <td>0</td>\n",
       "      <td>0</td>\n",
       "      <td>0</td>\n",
       "      <td>0</td>\n",
       "      <td>0</td>\n",
       "      <td>0</td>\n",
       "      <td>0</td>\n",
       "      <td>0</td>\n",
       "      <td>0</td>\n",
       "      <td>0</td>\n",
       "      <td>...</td>\n",
       "      <td>0</td>\n",
       "      <td>0</td>\n",
       "      <td>0</td>\n",
       "      <td>0</td>\n",
       "      <td>0</td>\n",
       "      <td>0</td>\n",
       "      <td>0</td>\n",
       "      <td>0</td>\n",
       "      <td>0</td>\n",
       "      <td>0</td>\n",
       "    </tr>\n",
       "    <tr>\n",
       "      <th>154004</th>\n",
       "      <td>0</td>\n",
       "      <td>0</td>\n",
       "      <td>0</td>\n",
       "      <td>0</td>\n",
       "      <td>0</td>\n",
       "      <td>0</td>\n",
       "      <td>0</td>\n",
       "      <td>0</td>\n",
       "      <td>0</td>\n",
       "      <td>0</td>\n",
       "      <td>...</td>\n",
       "      <td>0</td>\n",
       "      <td>0</td>\n",
       "      <td>0</td>\n",
       "      <td>0</td>\n",
       "      <td>0</td>\n",
       "      <td>0</td>\n",
       "      <td>0</td>\n",
       "      <td>0</td>\n",
       "      <td>0</td>\n",
       "      <td>0</td>\n",
       "    </tr>\n",
       "  </tbody>\n",
       "</table>\n",
       "<p>5 rows × 34311 columns</p>\n",
       "</div>"
      ],
      "text/plain": [
       "track_uri  spotify:track:000xQL6tZNLJzIrtIgxqSl  \\\n",
       "pid                                               \n",
       "154000                                        0   \n",
       "154001                                        0   \n",
       "154002                                        0   \n",
       "154003                                        0   \n",
       "154004                                        0   \n",
       "\n",
       "track_uri  spotify:track:0039ATfqO4FezsTcAggPyD  \\\n",
       "pid                                               \n",
       "154000                                        0   \n",
       "154001                                        0   \n",
       "154002                                        0   \n",
       "154003                                        0   \n",
       "154004                                        0   \n",
       "\n",
       "track_uri  spotify:track:0046NsE3QgADqnrV1NDhzJ  \\\n",
       "pid                                               \n",
       "154000                                        0   \n",
       "154001                                        0   \n",
       "154002                                        0   \n",
       "154003                                        0   \n",
       "154004                                        0   \n",
       "\n",
       "track_uri  spotify:track:005GaX6hvgeTFnR9FvejTE  \\\n",
       "pid                                               \n",
       "154000                                        0   \n",
       "154001                                        0   \n",
       "154002                                        0   \n",
       "154003                                        0   \n",
       "154004                                        0   \n",
       "\n",
       "track_uri  spotify:track:006AVH7fq061voGXkUiII4  \\\n",
       "pid                                               \n",
       "154000                                        0   \n",
       "154001                                        0   \n",
       "154002                                        0   \n",
       "154003                                        0   \n",
       "154004                                        0   \n",
       "\n",
       "track_uri  spotify:track:007YzRKaY8AP8kZhzjDoUM  \\\n",
       "pid                                               \n",
       "154000                                        0   \n",
       "154001                                        0   \n",
       "154002                                        0   \n",
       "154003                                        0   \n",
       "154004                                        0   \n",
       "\n",
       "track_uri  spotify:track:007ogFejDqJKzEXDUDF8Nf  \\\n",
       "pid                                               \n",
       "154000                                        0   \n",
       "154001                                        0   \n",
       "154002                                        0   \n",
       "154003                                        0   \n",
       "154004                                        0   \n",
       "\n",
       "track_uri  spotify:track:0088Tt3QK3fMYodhkIEoUh  \\\n",
       "pid                                               \n",
       "154000                                        0   \n",
       "154001                                        0   \n",
       "154002                                        0   \n",
       "154003                                        0   \n",
       "154004                                        0   \n",
       "\n",
       "track_uri  spotify:track:00BHe2yBtdOzhKPmI7rpTE  \\\n",
       "pid                                               \n",
       "154000                                        0   \n",
       "154001                                        0   \n",
       "154002                                        0   \n",
       "154003                                        0   \n",
       "154004                                        0   \n",
       "\n",
       "track_uri  spotify:track:00BuKLSAFkaEkaVAgIMbeA  ...  \\\n",
       "pid                                              ...   \n",
       "154000                                        0  ...   \n",
       "154001                                        0  ...   \n",
       "154002                                        0  ...   \n",
       "154003                                        0  ...   \n",
       "154004                                        0  ...   \n",
       "\n",
       "track_uri  spotify:track:7znZvX0Mt6NBmaI8VCPurT  \\\n",
       "pid                                               \n",
       "154000                                        0   \n",
       "154001                                        0   \n",
       "154002                                        0   \n",
       "154003                                        0   \n",
       "154004                                        0   \n",
       "\n",
       "track_uri  spotify:track:7zrPswSV1yxrill5OyCuaU  \\\n",
       "pid                                               \n",
       "154000                                        0   \n",
       "154001                                        0   \n",
       "154002                                        0   \n",
       "154003                                        0   \n",
       "154004                                        0   \n",
       "\n",
       "track_uri  spotify:track:7zscdQe9CjzXnqT3P1Ey7K  \\\n",
       "pid                                               \n",
       "154000                                        0   \n",
       "154001                                        0   \n",
       "154002                                        0   \n",
       "154003                                        0   \n",
       "154004                                        0   \n",
       "\n",
       "track_uri  spotify:track:7zsfZMKokyicvr9hR9Xc8A  \\\n",
       "pid                                               \n",
       "154000                                        0   \n",
       "154001                                        0   \n",
       "154002                                        0   \n",
       "154003                                        0   \n",
       "154004                                        0   \n",
       "\n",
       "track_uri  spotify:track:7ztpJweDp290g4mzNFJHGo  \\\n",
       "pid                                               \n",
       "154000                                        0   \n",
       "154001                                        0   \n",
       "154002                                        0   \n",
       "154003                                        0   \n",
       "154004                                        0   \n",
       "\n",
       "track_uri  spotify:track:7zuqsNtIkksF5U9OEjqXlk  \\\n",
       "pid                                               \n",
       "154000                                        0   \n",
       "154001                                        0   \n",
       "154002                                        0   \n",
       "154003                                        0   \n",
       "154004                                        0   \n",
       "\n",
       "track_uri  spotify:track:7zvzEOdelLaXM4aJYE29PT  \\\n",
       "pid                                               \n",
       "154000                                        0   \n",
       "154001                                        0   \n",
       "154002                                        0   \n",
       "154003                                        0   \n",
       "154004                                        0   \n",
       "\n",
       "track_uri  spotify:track:7zxRMhXxJMQCeDDg0rKAVo  \\\n",
       "pid                                               \n",
       "154000                                        0   \n",
       "154001                                        0   \n",
       "154002                                        0   \n",
       "154003                                        0   \n",
       "154004                                        0   \n",
       "\n",
       "track_uri  spotify:track:7zyo93bLysAjU08Enina9r  \\\n",
       "pid                                               \n",
       "154000                                        0   \n",
       "154001                                        0   \n",
       "154002                                        0   \n",
       "154003                                        0   \n",
       "154004                                        0   \n",
       "\n",
       "track_uri  spotify:track:7zyqJJ0QwajaHaPLCqZFXN  \n",
       "pid                                              \n",
       "154000                                        0  \n",
       "154001                                        0  \n",
       "154002                                        0  \n",
       "154003                                        0  \n",
       "154004                                        0  \n",
       "\n",
       "[5 rows x 34311 columns]"
      ]
     },
     "execution_count": 32,
     "metadata": {},
     "output_type": "execute_result"
    }
   ],
   "source": [
    "%%time\n",
    "A = songs_df.drop(['artist_name', 'track_name'], axis=1).pivot_table(index=[\"pid\"], columns=\"track_uri\", aggfunc=lambda x: 1, fill_value=0)\n",
    "print(A.shape)\n",
    "A.head()"
   ]
  },
  {
   "cell_type": "code",
   "execution_count": 33,
   "metadata": {
    "id": "PN_CEhfF9wqe"
   },
   "outputs": [],
   "source": [
    "del songs_df"
   ]
  },
  {
   "cell_type": "code",
   "execution_count": 34,
   "metadata": {
    "colab": {
     "base_uri": "https://localhost:8080/"
    },
    "id": "JnKwJ9IJSjPy",
    "outputId": "93b4e18b-b3da-4c83-cb2b-b7f102585fce"
   },
   "outputs": [
    {
     "name": "stdout",
     "output_type": "stream",
     "text": [
      "(34311, 34311)\n",
      "Wall time: 356 ms\n"
     ]
    }
   ],
   "source": [
    "%%time\n",
    "A = scipy.sparse.csr_matrix(A) \n",
    "\n",
    "C = A.T * A\n",
    "print(C.shape)"
   ]
  },
  {
   "cell_type": "code",
   "execution_count": 35,
   "metadata": {
    "id": "302tuik8TGOR"
   },
   "outputs": [],
   "source": [
    "song_freq_vec = np.sum(A, axis=0)\n",
    "song_freq_vec = song_freq_vec.reshape(A.shape[1], 1)"
   ]
  },
  {
   "cell_type": "code",
   "execution_count": 36,
   "metadata": {
    "id": "ZWZIt2jU9fYR"
   },
   "outputs": [],
   "source": [
    "del A"
   ]
  },
  {
   "cell_type": "code",
   "execution_count": 37,
   "metadata": {
    "colab": {
     "base_uri": "https://localhost:8080/"
    },
    "id": "L4hGQiYIBGph",
    "outputId": "5bf2256e-f1c3-4823-fa59-5f1debf49a1d"
   },
   "outputs": [
    {
     "name": "stdout",
     "output_type": "stream",
     "text": [
      "Wall time: 9.08 s\n"
     ]
    }
   ],
   "source": [
    "%%time\n",
    "C = da.from_array(C.toarray(), chunks=(500, 500))\n",
    "song_freq_vec = da.from_array(song_freq_vec, chunks=(500, 1))"
   ]
  },
  {
   "cell_type": "code",
   "execution_count": 38,
   "metadata": {
    "colab": {
     "base_uri": "https://localhost:8080/"
    },
    "id": "7BAG7oE5THP6",
    "outputId": "42554c74-d142-42fe-bc9e-52ce9f448f46"
   },
   "outputs": [
    {
     "name": "stdout",
     "output_type": "stream",
     "text": [
      "Wall time: 5.02 ms\n"
     ]
    }
   ],
   "source": [
    "%%time\n",
    "D = (song_freq_vec + song_freq_vec.T) - C"
   ]
  },
  {
   "cell_type": "code",
   "execution_count": 39,
   "metadata": {
    "id": "7RjiZKP_5ql_"
   },
   "outputs": [
    {
     "name": "stdout",
     "output_type": "stream",
     "text": [
      "(34311, 34311)\n",
      "Wall time: 2 ms\n"
     ]
    }
   ],
   "source": [
    "%%time\n",
    "S = da.divide(C, D)\n",
    "print(S.shape)"
   ]
  },
  {
   "cell_type": "code",
   "execution_count": 40,
   "metadata": {},
   "outputs": [],
   "source": [
    "del C\n",
    "del D\n",
    "del song_freq_vec"
   ]
  },
  {
   "cell_type": "code",
   "execution_count": 41,
   "metadata": {},
   "outputs": [
    {
     "name": "stdout",
     "output_type": "stream",
     "text": [
      "Wall time: 1min 11s\n"
     ]
    }
   ],
   "source": [
    "%%time\n",
    "S = S.compute()"
   ]
  },
  {
   "cell_type": "code",
   "execution_count": 51,
   "metadata": {},
   "outputs": [
    {
     "data": {
      "text/plain": [
       "(34311, 34311)"
      ]
     },
     "execution_count": 51,
     "metadata": {},
     "output_type": "execute_result"
    }
   ],
   "source": [
    "S.shape"
   ]
  },
  {
   "cell_type": "code",
   "execution_count": 42,
   "metadata": {},
   "outputs": [
    {
     "data": {
      "text/plain": [
       "1.0"
      ]
     },
     "execution_count": 42,
     "metadata": {},
     "output_type": "execute_result"
    }
   ],
   "source": [
    "S.max()"
   ]
  },
  {
   "cell_type": "code",
   "execution_count": 43,
   "metadata": {},
   "outputs": [
    {
     "data": {
      "text/plain": [
       "0.0"
      ]
     },
     "execution_count": 43,
     "metadata": {},
     "output_type": "execute_result"
    }
   ],
   "source": [
    "S.min()"
   ]
  },
  {
   "cell_type": "code",
   "execution_count": 44,
   "metadata": {},
   "outputs": [
    {
     "data": {
      "text/plain": [
       "9417957888"
      ]
     },
     "execution_count": 44,
     "metadata": {},
     "output_type": "execute_result"
    }
   ],
   "source": [
    "sys.getsizeof(S)"
   ]
  },
  {
   "cell_type": "code",
   "execution_count": 45,
   "metadata": {},
   "outputs": [
    {
     "name": "stdout",
     "output_type": "stream",
     "text": [
      "Wall time: 8.51 s\n"
     ]
    }
   ],
   "source": [
    "%%time\n",
    "S = scipy.sparse.csr_matrix(S)"
   ]
  },
  {
   "cell_type": "code",
   "execution_count": 46,
   "metadata": {},
   "outputs": [
    {
     "data": {
      "text/plain": [
       "48"
      ]
     },
     "execution_count": 46,
     "metadata": {},
     "output_type": "execute_result"
    }
   ],
   "source": [
    "sys.getsizeof(S)"
   ]
  },
  {
   "cell_type": "code",
   "execution_count": 47,
   "metadata": {},
   "outputs": [
    {
     "data": {
      "text/plain": [
       "(1, 6805363)"
      ]
     },
     "execution_count": 47,
     "metadata": {},
     "output_type": "execute_result"
    }
   ],
   "source": [
    "S[S != 0].shape"
   ]
  },
  {
   "cell_type": "code",
   "execution_count": 50,
   "metadata": {
    "id": "8Mr1cqbdInXl"
   },
   "outputs": [
    {
     "data": {
      "text/plain": [
       "0.005780754739098975"
      ]
     },
     "execution_count": 50,
     "metadata": {},
     "output_type": "execute_result"
    }
   ],
   "source": [
    "S[S != 0].shape[1] / (S.shape[0] * S.shape[1])"
   ]
  },
  {
   "cell_type": "markdown",
   "metadata": {},
   "source": [
    "Менее половины процента всех возможных комбинаций треков случайного кусочка данных находились в одном плейлисте."
   ]
  },
  {
   "cell_type": "markdown",
   "metadata": {},
   "source": [
    "# Итоги"
   ]
  },
  {
   "cell_type": "markdown",
   "metadata": {},
   "source": [
    "В качестве потенциальных признаков выбраны следующие (для задачи формирования множества рекомендованных треков и ранжирования):\n",
    "\n",
    "- Отношения между треками, исполнителями и альбомами (нормированная совстречаемость, доля схожих по какому-либо признаку треков). Нормировка может производиться на сумму количества плейлистов, в которых встречается каждый из рассматриваемых объектов\n",
    "- Встерчаемость треков, исполнителей и альбомов в плейлистах\n",
    "- Количество альбомов в плейлисте\n",
    "- Количество исполнителей в плейлисте\n",
    "- Продолжительность плейлиста или преобразобвание данного признака (например, средняя продолжительность треков)\n",
    "- Позиции треков\n",
    "- Название альбома"
   ]
  },
  {
   "cell_type": "code",
   "execution_count": null,
   "metadata": {},
   "outputs": [],
   "source": []
  }
 ],
 "metadata": {
  "accelerator": "GPU",
  "colab": {
   "collapsed_sections": [],
   "name": "EDA.ipynb",
   "provenance": []
  },
  "kernelspec": {
   "display_name": "Python 3",
   "language": "python",
   "name": "python3"
  },
  "language_info": {
   "codemirror_mode": {
    "name": "ipython",
    "version": 3
   },
   "file_extension": ".py",
   "mimetype": "text/x-python",
   "name": "python",
   "nbconvert_exporter": "python",
   "pygments_lexer": "ipython3",
   "version": "3.8.8"
  }
 },
 "nbformat": 4,
 "nbformat_minor": 1
}
